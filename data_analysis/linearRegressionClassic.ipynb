{
 "cells": [
  {
   "cell_type": "code",
   "execution_count": 1,
   "id": "231e8486-6709-48eb-997d-9df2c8bc71f3",
   "metadata": {},
   "outputs": [
    {
     "name": "stdout",
     "output_type": "stream",
     "text": [
      "INFO:tensorflow:Enabling eager execution\n",
      "INFO:tensorflow:Enabling v2 tensorshape\n",
      "INFO:tensorflow:Enabling resource variables\n",
      "INFO:tensorflow:Enabling tensor equality\n",
      "INFO:tensorflow:Enabling control flow v2\n"
     ]
    }
   ],
   "source": [
    "import tensorflow as tf \n",
    "import numpy as np\n",
    "import pandas as pd\n",
    "from sklearn.model_selection import train_test_split\n",
    "import os\n",
    "import seaborn as sns\n",
    "import matplotlib.pyplot as plt"
   ]
  },
  {
   "cell_type": "code",
   "execution_count": 2,
   "id": "5960cda6-0a3b-4940-9910-2cd3cd066281",
   "metadata": {},
   "outputs": [],
   "source": [
    "training_file =  os.getcwd().split(\"\\TFG\")[0] + \"/TFG/apis_data/historicalMerge.csv\"\n",
    "testing_file = os.getcwd().split(\"\\TFG\")[0] + \"/TFG/apis_data/2021/trainingDataMerge.csv\"\n",
    "    \n",
    "dftrain = pd.read_csv(training_file, low_memory=False) # training data\n",
    "dfeval = pd.read_csv(testing_file, low_memory=False) # testing data\n",
    "console.log(\"fin1\")"
   ]
  },
  {
   "cell_type": "code",
   "execution_count": 3,
   "id": "b3038985-8ee8-4581-b9e8-4b51d3572129",
   "metadata": {},
   "outputs": [],
   "source": [
    "dftrain = dftrain.drop([\"datetime\",\"datetime_traffic\",\"id\", \"Maximum Temperature\", \"Minimum Temperature\", \"travel_time\", \"Parameter_PM2.5\", \"Unit_PM2.5\", \"Parameter_OZONE\", \"Unit_OZONE\", \"Category_OZONE\", \"Dew Point\", \"Relative Humidity\", \"Heat Index\", \"Wind Speed\", \"Wind Gust\", \"Wind Direction\", \"Wind Chill\", \"Precipitation Cover\", \"Cloud Cover\", \"Sea Level Pressure\"],axis=1)\n",
    "console.log(\"fin2\")"
   ]
  },
  {
   "cell_type": "code",
   "execution_count": 4,
   "id": "7dd41a0c-6076-40bb-ad8f-bb19164c6b33",
   "metadata": {},
   "outputs": [],
   "source": [
    "dftrain['Snow Depth'] = dftrain['Snow Depth'].replace([\"Partially cloudy\", \"Clear\", \"Rain Partially cloudy\", \"Rain\", \"Overcast\", \"Rain Overcast\"],0.0)\n",
    "dftrain = dftrain.dropna()\n",
    "\n",
    "dftrain['Conditions'] = dftrain['Conditions'].astype('category')\n",
    "dftrain['weekday'] = dftrain['weekday'].astype('category')\n",
    "dftrain['link_name'] = dftrain['link_name'].astype('category')\n",
    "dftrain['Zone'] = dftrain['Zone'].astype('category')\n",
    "console.log(\"fin3\")"
   ]
  },
  {
   "cell_type": "code",
   "execution_count": 5,
   "id": "5de6eb60-8fb0-4c81-b75d-b5aa0ebfea61",
   "metadata": {},
   "outputs": [],
   "source": [
    "dftrain['Conditions'] = dftrain['Conditions'].cat.codes\n",
    "dftrain['weekday'] = dftrain['weekday'].cat.codes\n",
    "dftrain['link_name'] = dftrain['link_name'].cat.codes\n",
    "dftrain['Zone'] = dftrain['Zone'].cat.codes\n",
    "\n"
   ]
  },
  {
   "cell_type": "code",
   "execution_count": 14,
   "id": "461d2389-03c6-4a89-9743-522e6a5e8040",
   "metadata": {},
   "outputs": [
    {
     "name": "stdout",
     "output_type": "stream",
     "text": [
      "terminó\n"
     ]
    },
    {
     "data": {
      "image/png": "[encoded data removed]",
      "text/plain": [
       "<Figure size 180x180 with 2 Axes>"
      ]
     },
     "metadata": {
      "needs_background": "light"
     },
     "output_type": "display_data"
    },
    {
     "data": {
      "image/png": "[encoded data removed]",
      "text/plain": [
       "<Figure size 180x180 with 2 Axes>"
      ]
     },
     "metadata": {
      "needs_background": "light"
     },
     "output_type": "display_data"
    }
   ],
   "source": [
    "sns.pairplot(dftrain[[\"speed\"]], diag_kind=\"kde\")\n",
    "sns.pairplot(dftrain[[\"Precipitation\"]], diag_kind=\"kde\")\n",
    "print(\"terminó\")\n"
   ]
  },
  {
   "cell_type": "code",
   "execution_count": null,
   "id": "29e79ea8-f525-4fbc-839c-e6dfd3cc6bcd",
   "metadata": {},
   "outputs": [],
   "source": []
  },
  {
   "cell_type": "code",
   "execution_count": null,
   "id": "deb461c4-de4c-48fb-989a-0b9a9783f398",
   "metadata": {},
   "outputs": [],
   "source": []
  }
 ],
 "metadata": {
  "kernelspec": {
   "display_name": "Python 3",
   "language": "python",
   "name": "python3"
  },
  "language_info": {
   "codemirror_mode": {
    "name": "ipython",
    "version": 3
   },
   "file_extension": ".py",
   "mimetype": "text/x-python",
   "name": "python",
   "nbconvert_exporter": "python",
   "pygments_lexer": "ipython3",
   "version": "3.9.2"
  }
 },
 "nbformat": 4,
 "nbformat_minor": 5
}
